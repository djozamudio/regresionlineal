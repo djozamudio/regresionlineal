{
 "cells": [
  {
   "cell_type": "markdown",
   "id": "a1b9f9dd-48c0-4b37-ba49-819b5b179a79",
   "metadata": {},
   "source": [
    "# Regresión lineal"
   ]
  },
  {
   "cell_type": "markdown",
   "id": "0fc0ca0e-6ba6-4fb8-9493-145bd0998905",
   "metadata": {},
   "source": [
    "## Actividad:"
   ]
  },
  {
   "cell_type": "markdown",
   "id": "ec0418cf-1d2b-4569-851c-c80d943e86e3",
   "metadata": {},
   "source": [
    "1. Realizar un análisis exploratorio de los datos para identificar relaciones entre variables, valores atípicos,tendencias, etc."
   ]
  },
  {
   "cell_type": "markdown",
   "id": "2c043c04-8586-4243-89da-491173daded3",
   "metadata": {},
   "source": [
    "2. Preprocesar los datos limpiándolos, tratando valores faltantes y transformándolos según sea necesario"
   ]
  },
  {
   "cell_type": "markdown",
   "id": "48977f9f-f218-4b40-b875-cc8b3f7d6362",
   "metadata": {},
   "source": [
    "3. Seleccionar las características más relevantes para entrenar el modelo utilizando selección de características"
   ]
  },
  {
   "cell_type": "markdown",
   "id": "73959420-da09-40fc-83f2-c59fa17c4f46",
   "metadata": {},
   "source": [
    "4. Dividir el dataset en Train y Test para evaluar correctamente el modelo"
   ]
  },
  {
   "cell_type": "markdown",
   "id": "82e28229-c2e1-4a46-b4ff-116c8cc0e228",
   "metadata": {},
   "source": [
    "5. Entrenar el modelo configurando los diferentes hiperparámetros"
   ]
  },
  {
   "cell_type": "markdown",
   "id": "2444ffee-bd43-4ab1-b874-015ec11141d6",
   "metadata": {},
   "source": [
    "6. Evaluar el desempeño del modelo en el conjunto de Test con métricas como precisión, recall, F1-score, etc"
   ]
  },
  {
   "cell_type": "markdown",
   "id": "320330a6-ce72-456a-94ee-5f543ba2928f",
   "metadata": {},
   "source": [
    "7. Realizar las diferentes gráficas que permitan visualizar los resultados del modelo."
   ]
  },
  {
   "cell_type": "markdown",
   "id": "e2facde3-43da-42eb-abda-3dbc26c0a344",
   "metadata": {},
   "source": [
    "8. Interpretar, analizar y documentar los resultados obtenidos"
   ]
  },
  {
   "cell_type": "markdown",
   "id": "a269d837-3558-4ac6-ac66-d731aa70f7f9",
   "metadata": {},
   "source": [
    "# 1."
   ]
  },
  {
   "cell_type": "code",
   "execution_count": 200,
   "id": "078fa713-049f-4f20-9130-13c904b9e69b",
   "metadata": {},
   "outputs": [
    {
     "data": {
      "text/html": [
       "<div>\n",
       "<style scoped>\n",
       "    .dataframe tbody tr th:only-of-type {\n",
       "        vertical-align: middle;\n",
       "    }\n",
       "\n",
       "    .dataframe tbody tr th {\n",
       "        vertical-align: top;\n",
       "    }\n",
       "\n",
       "    .dataframe thead th {\n",
       "        text-align: right;\n",
       "    }\n",
       "</style>\n",
       "<table border=\"1\" class=\"dataframe\">\n",
       "  <thead>\n",
       "    <tr style=\"text-align: right;\">\n",
       "      <th></th>\n",
       "      <th>name</th>\n",
       "      <th>year</th>\n",
       "      <th>selling_price</th>\n",
       "      <th>km_driven</th>\n",
       "      <th>fuel</th>\n",
       "      <th>seller_type</th>\n",
       "      <th>transmission</th>\n",
       "      <th>owner</th>\n",
       "      <th>mileage</th>\n",
       "      <th>engine</th>\n",
       "      <th>max_power</th>\n",
       "      <th>torque</th>\n",
       "      <th>seats</th>\n",
       "    </tr>\n",
       "  </thead>\n",
       "  <tbody>\n",
       "    <tr>\n",
       "      <th>0</th>\n",
       "      <td>Maruti Swift Dzire VDI</td>\n",
       "      <td>2014</td>\n",
       "      <td>450000</td>\n",
       "      <td>145500</td>\n",
       "      <td>Diesel</td>\n",
       "      <td>Individual</td>\n",
       "      <td>Manual</td>\n",
       "      <td>First Owner</td>\n",
       "      <td>23.4 kmpl</td>\n",
       "      <td>1248 CC</td>\n",
       "      <td>74 bhp</td>\n",
       "      <td>190Nm@ 2000rpm</td>\n",
       "      <td>5.0</td>\n",
       "    </tr>\n",
       "    <tr>\n",
       "      <th>1</th>\n",
       "      <td>Skoda Rapid 1.5 TDI Ambition</td>\n",
       "      <td>2014</td>\n",
       "      <td>370000</td>\n",
       "      <td>120000</td>\n",
       "      <td>Diesel</td>\n",
       "      <td>Individual</td>\n",
       "      <td>Manual</td>\n",
       "      <td>Second Owner</td>\n",
       "      <td>21.14 kmpl</td>\n",
       "      <td>1498 CC</td>\n",
       "      <td>103.52 bhp</td>\n",
       "      <td>250Nm@ 1500-2500rpm</td>\n",
       "      <td>5.0</td>\n",
       "    </tr>\n",
       "    <tr>\n",
       "      <th>2</th>\n",
       "      <td>Honda City 2017-2020 EXi</td>\n",
       "      <td>2006</td>\n",
       "      <td>158000</td>\n",
       "      <td>140000</td>\n",
       "      <td>Petrol</td>\n",
       "      <td>Individual</td>\n",
       "      <td>Manual</td>\n",
       "      <td>Third Owner</td>\n",
       "      <td>17.7 kmpl</td>\n",
       "      <td>1497 CC</td>\n",
       "      <td>78 bhp</td>\n",
       "      <td>12.7@ 2,700(kgm@ rpm)</td>\n",
       "      <td>5.0</td>\n",
       "    </tr>\n",
       "    <tr>\n",
       "      <th>3</th>\n",
       "      <td>Hyundai i20 Sportz Diesel</td>\n",
       "      <td>2010</td>\n",
       "      <td>225000</td>\n",
       "      <td>127000</td>\n",
       "      <td>Diesel</td>\n",
       "      <td>Individual</td>\n",
       "      <td>Manual</td>\n",
       "      <td>First Owner</td>\n",
       "      <td>23.0 kmpl</td>\n",
       "      <td>1396 CC</td>\n",
       "      <td>90 bhp</td>\n",
       "      <td>22.4 kgm at 1750-2750rpm</td>\n",
       "      <td>5.0</td>\n",
       "    </tr>\n",
       "    <tr>\n",
       "      <th>4</th>\n",
       "      <td>Maruti Swift VXI BSIII</td>\n",
       "      <td>2007</td>\n",
       "      <td>130000</td>\n",
       "      <td>120000</td>\n",
       "      <td>Petrol</td>\n",
       "      <td>Individual</td>\n",
       "      <td>Manual</td>\n",
       "      <td>First Owner</td>\n",
       "      <td>16.1 kmpl</td>\n",
       "      <td>1298 CC</td>\n",
       "      <td>88.2 bhp</td>\n",
       "      <td>11.5@ 4,500(kgm@ rpm)</td>\n",
       "      <td>5.0</td>\n",
       "    </tr>\n",
       "    <tr>\n",
       "      <th>5</th>\n",
       "      <td>Hyundai Xcent 1.2 VTVT E Plus</td>\n",
       "      <td>2017</td>\n",
       "      <td>440000</td>\n",
       "      <td>45000</td>\n",
       "      <td>Petrol</td>\n",
       "      <td>Individual</td>\n",
       "      <td>Manual</td>\n",
       "      <td>First Owner</td>\n",
       "      <td>20.14 kmpl</td>\n",
       "      <td>1197 CC</td>\n",
       "      <td>81.86 bhp</td>\n",
       "      <td>113.75nm@ 4000rpm</td>\n",
       "      <td>5.0</td>\n",
       "    </tr>\n",
       "    <tr>\n",
       "      <th>6</th>\n",
       "      <td>Maruti Wagon R LXI DUO BSIII</td>\n",
       "      <td>2007</td>\n",
       "      <td>96000</td>\n",
       "      <td>175000</td>\n",
       "      <td>LPG</td>\n",
       "      <td>Individual</td>\n",
       "      <td>Manual</td>\n",
       "      <td>First Owner</td>\n",
       "      <td>17.3 km/kg</td>\n",
       "      <td>1061 CC</td>\n",
       "      <td>57.5 bhp</td>\n",
       "      <td>7.8@ 4,500(kgm@ rpm)</td>\n",
       "      <td>5.0</td>\n",
       "    </tr>\n",
       "    <tr>\n",
       "      <th>7</th>\n",
       "      <td>Maruti 800 DX BSII</td>\n",
       "      <td>2001</td>\n",
       "      <td>45000</td>\n",
       "      <td>5000</td>\n",
       "      <td>Petrol</td>\n",
       "      <td>Individual</td>\n",
       "      <td>Manual</td>\n",
       "      <td>Second Owner</td>\n",
       "      <td>16.1 kmpl</td>\n",
       "      <td>796 CC</td>\n",
       "      <td>37 bhp</td>\n",
       "      <td>59Nm@ 2500rpm</td>\n",
       "      <td>4.0</td>\n",
       "    </tr>\n",
       "    <tr>\n",
       "      <th>8</th>\n",
       "      <td>Toyota Etios VXD</td>\n",
       "      <td>2011</td>\n",
       "      <td>350000</td>\n",
       "      <td>90000</td>\n",
       "      <td>Diesel</td>\n",
       "      <td>Individual</td>\n",
       "      <td>Manual</td>\n",
       "      <td>First Owner</td>\n",
       "      <td>23.59 kmpl</td>\n",
       "      <td>1364 CC</td>\n",
       "      <td>67.1 bhp</td>\n",
       "      <td>170Nm@ 1800-2400rpm</td>\n",
       "      <td>5.0</td>\n",
       "    </tr>\n",
       "    <tr>\n",
       "      <th>9</th>\n",
       "      <td>Ford Figo Diesel Celebration Edition</td>\n",
       "      <td>2013</td>\n",
       "      <td>200000</td>\n",
       "      <td>169000</td>\n",
       "      <td>Diesel</td>\n",
       "      <td>Individual</td>\n",
       "      <td>Manual</td>\n",
       "      <td>First Owner</td>\n",
       "      <td>20.0 kmpl</td>\n",
       "      <td>1399 CC</td>\n",
       "      <td>68.1 bhp</td>\n",
       "      <td>160Nm@ 2000rpm</td>\n",
       "      <td>5.0</td>\n",
       "    </tr>\n",
       "  </tbody>\n",
       "</table>\n",
       "</div>"
      ],
      "text/plain": [
       "                                   name  year  selling_price  km_driven  \\\n",
       "0                Maruti Swift Dzire VDI  2014         450000     145500   \n",
       "1          Skoda Rapid 1.5 TDI Ambition  2014         370000     120000   \n",
       "2              Honda City 2017-2020 EXi  2006         158000     140000   \n",
       "3             Hyundai i20 Sportz Diesel  2010         225000     127000   \n",
       "4                Maruti Swift VXI BSIII  2007         130000     120000   \n",
       "5         Hyundai Xcent 1.2 VTVT E Plus  2017         440000      45000   \n",
       "6          Maruti Wagon R LXI DUO BSIII  2007          96000     175000   \n",
       "7                    Maruti 800 DX BSII  2001          45000       5000   \n",
       "8                      Toyota Etios VXD  2011         350000      90000   \n",
       "9  Ford Figo Diesel Celebration Edition  2013         200000     169000   \n",
       "\n",
       "     fuel seller_type transmission         owner     mileage   engine  \\\n",
       "0  Diesel  Individual       Manual   First Owner   23.4 kmpl  1248 CC   \n",
       "1  Diesel  Individual       Manual  Second Owner  21.14 kmpl  1498 CC   \n",
       "2  Petrol  Individual       Manual   Third Owner   17.7 kmpl  1497 CC   \n",
       "3  Diesel  Individual       Manual   First Owner   23.0 kmpl  1396 CC   \n",
       "4  Petrol  Individual       Manual   First Owner   16.1 kmpl  1298 CC   \n",
       "5  Petrol  Individual       Manual   First Owner  20.14 kmpl  1197 CC   \n",
       "6     LPG  Individual       Manual   First Owner  17.3 km/kg  1061 CC   \n",
       "7  Petrol  Individual       Manual  Second Owner   16.1 kmpl   796 CC   \n",
       "8  Diesel  Individual       Manual   First Owner  23.59 kmpl  1364 CC   \n",
       "9  Diesel  Individual       Manual   First Owner   20.0 kmpl  1399 CC   \n",
       "\n",
       "    max_power                    torque  seats  \n",
       "0      74 bhp            190Nm@ 2000rpm    5.0  \n",
       "1  103.52 bhp       250Nm@ 1500-2500rpm    5.0  \n",
       "2      78 bhp     12.7@ 2,700(kgm@ rpm)    5.0  \n",
       "3      90 bhp  22.4 kgm at 1750-2750rpm    5.0  \n",
       "4    88.2 bhp     11.5@ 4,500(kgm@ rpm)    5.0  \n",
       "5   81.86 bhp         113.75nm@ 4000rpm    5.0  \n",
       "6    57.5 bhp      7.8@ 4,500(kgm@ rpm)    5.0  \n",
       "7      37 bhp             59Nm@ 2500rpm    4.0  \n",
       "8    67.1 bhp       170Nm@ 1800-2400rpm    5.0  \n",
       "9    68.1 bhp            160Nm@ 2000rpm    5.0  "
      ]
     },
     "execution_count": 200,
     "metadata": {},
     "output_type": "execute_result"
    }
   ],
   "source": [
    "#Cargar las librerias necesrias\n",
    "\n",
    "import pandas as pd # Manejo y análisis de estructuras de datos\n",
    "import numpy as np # Cálculo numérico y el análisis de datos\n",
    "import seaborn as sns # Creación gráficos estadísticos\n",
    "import matplotlib.pyplot as plt # Creación de gráficos en dos dimensiones\n",
    "\n",
    "# librerías de para implementar modelos de ciencia de datos\n",
    "from sklearn import metrics\n",
    "from sklearn.model_selection import train_test_split\n",
    "from sklearn.linear_model import LinearRegression\n",
    "from sklearn.metrics import mean_squared_error, mean_absolute_error, r2_score\n",
    "# lectura de datos en Python y lo cargamos en la variable Datos\n",
    "Datos = pd.read_csv('C:\\\\Users\\\\usuario\\\\Desktop\\\\Data set tarea 2\\\\car details v3.csv')\n",
    "# Realizamos lectura de los Datos para el análisis exploratorio\n",
    "Datos.head(10)"
   ]
  },
  {
   "cell_type": "code",
   "execution_count": 201,
   "id": "a4de5e8f-e587-4e6f-ad1e-81955f35a1db",
   "metadata": {},
   "outputs": [
    {
     "data": {
      "text/html": [
       "<div>\n",
       "<style scoped>\n",
       "    .dataframe tbody tr th:only-of-type {\n",
       "        vertical-align: middle;\n",
       "    }\n",
       "\n",
       "    .dataframe tbody tr th {\n",
       "        vertical-align: top;\n",
       "    }\n",
       "\n",
       "    .dataframe thead th {\n",
       "        text-align: right;\n",
       "    }\n",
       "</style>\n",
       "<table border=\"1\" class=\"dataframe\">\n",
       "  <thead>\n",
       "    <tr style=\"text-align: right;\">\n",
       "      <th></th>\n",
       "      <th>year</th>\n",
       "      <th>selling_price</th>\n",
       "      <th>km_driven</th>\n",
       "      <th>seats</th>\n",
       "    </tr>\n",
       "  </thead>\n",
       "  <tbody>\n",
       "    <tr>\n",
       "      <th>count</th>\n",
       "      <td>8128.000000</td>\n",
       "      <td>8.128000e+03</td>\n",
       "      <td>8.128000e+03</td>\n",
       "      <td>7907.000000</td>\n",
       "    </tr>\n",
       "    <tr>\n",
       "      <th>mean</th>\n",
       "      <td>2013.804011</td>\n",
       "      <td>6.382718e+05</td>\n",
       "      <td>6.981951e+04</td>\n",
       "      <td>5.416719</td>\n",
       "    </tr>\n",
       "    <tr>\n",
       "      <th>std</th>\n",
       "      <td>4.044249</td>\n",
       "      <td>8.062534e+05</td>\n",
       "      <td>5.655055e+04</td>\n",
       "      <td>0.959588</td>\n",
       "    </tr>\n",
       "    <tr>\n",
       "      <th>min</th>\n",
       "      <td>1983.000000</td>\n",
       "      <td>2.999900e+04</td>\n",
       "      <td>1.000000e+00</td>\n",
       "      <td>2.000000</td>\n",
       "    </tr>\n",
       "    <tr>\n",
       "      <th>25%</th>\n",
       "      <td>2011.000000</td>\n",
       "      <td>2.549990e+05</td>\n",
       "      <td>3.500000e+04</td>\n",
       "      <td>5.000000</td>\n",
       "    </tr>\n",
       "    <tr>\n",
       "      <th>50%</th>\n",
       "      <td>2015.000000</td>\n",
       "      <td>4.500000e+05</td>\n",
       "      <td>6.000000e+04</td>\n",
       "      <td>5.000000</td>\n",
       "    </tr>\n",
       "    <tr>\n",
       "      <th>75%</th>\n",
       "      <td>2017.000000</td>\n",
       "      <td>6.750000e+05</td>\n",
       "      <td>9.800000e+04</td>\n",
       "      <td>5.000000</td>\n",
       "    </tr>\n",
       "    <tr>\n",
       "      <th>max</th>\n",
       "      <td>2020.000000</td>\n",
       "      <td>1.000000e+07</td>\n",
       "      <td>2.360457e+06</td>\n",
       "      <td>14.000000</td>\n",
       "    </tr>\n",
       "  </tbody>\n",
       "</table>\n",
       "</div>"
      ],
      "text/plain": [
       "              year  selling_price     km_driven        seats\n",
       "count  8128.000000   8.128000e+03  8.128000e+03  7907.000000\n",
       "mean   2013.804011   6.382718e+05  6.981951e+04     5.416719\n",
       "std       4.044249   8.062534e+05  5.655055e+04     0.959588\n",
       "min    1983.000000   2.999900e+04  1.000000e+00     2.000000\n",
       "25%    2011.000000   2.549990e+05  3.500000e+04     5.000000\n",
       "50%    2015.000000   4.500000e+05  6.000000e+04     5.000000\n",
       "75%    2017.000000   6.750000e+05  9.800000e+04     5.000000\n",
       "max    2020.000000   1.000000e+07  2.360457e+06    14.000000"
      ]
     },
     "execution_count": 201,
     "metadata": {},
     "output_type": "execute_result"
    }
   ],
   "source": [
    "# Descripción de los datos\n",
    "Datos.describe()"
   ]
  },
  {
   "cell_type": "code",
   "execution_count": 202,
   "id": "a80f13cc-707d-4df0-b43f-87481f1793dd",
   "metadata": {},
   "outputs": [
    {
     "data": {
      "image/png": "[encoded data removed]",
      "text/plain": [
       "<Figure size 600x300 with 1 Axes>"
      ]
     },
     "metadata": {},
     "output_type": "display_data"
    }
   ],
   "source": [
    "#Identificación de Datos Faltantes y Atípicos\n",
    "plt.figure(figsize=(6, 3))\n",
    "sns.boxplot(x=Datos['selling_price'])\n",
    "plt.title('Identificación de Datos Faltantes y Atípicos', fontsize=10)\n",
    "plt.show() "
   ]
  },
  {
   "cell_type": "code",
   "execution_count": 203,
   "id": "6e2cdaec-b3c9-4afb-a7c3-533f5d0c6183",
   "metadata": {},
   "outputs": [
    {
     "name": "stdout",
     "output_type": "stream",
     "text": [
      "Cantidad de valores faltantes en name: 0\n",
      "Cantidad de valores faltantes en year: 0\n",
      "Cantidad de valores faltantes en selling_price: 0\n",
      "Cantidad de valores faltantes en km_driven: 0\n",
      "Cantidad de valores faltantes en fuel: 0\n",
      "Cantidad de valores faltantes en seller_type: 0\n",
      "Cantidad de valores faltantes en transmission: 0\n",
      "Cantidad de valores faltantes en owner: 0\n",
      "Cantidad de valores faltantes en mileage: 221\n",
      "Cantidad de valores faltantes en engine: 221\n",
      "Cantidad de valores faltantes en max_power: 215\n",
      "Cantidad de valores faltantes en torque: 222\n",
      "Cantidad de valores faltantes en seats: 221\n"
     ]
    }
   ],
   "source": [
    "# utilizamos el siguiente código para que se nos muestre las columnas del dataset que contienen valores vacíos.\n",
    "for column in Datos.columns:\n",
    "    missing_values = Datos[column].isna().sum()\n",
    "    print(\"Cantidad de valores faltantes en {}: {}\".format(column, missing_values))"
   ]
  },
  {
   "cell_type": "markdown",
   "id": "f0bd8258-9503-4f9f-aaf3-2804b7e9ab2c",
   "metadata": {},
   "source": [
    "# 2."
   ]
  },
  {
   "cell_type": "code",
   "execution_count": 204,
   "id": "c82fe130-e196-40c7-a646-780427209c52",
   "metadata": {},
   "outputs": [],
   "source": [
    "# utilizamos el siguiente código para reemplazar los valores faltantes de las columnas reemplazándolos por la moda presente en cada columna\n",
    "for column in ['mileage', 'engine', 'max_power', 'torque', 'seats']:\n",
    "    Datos[column].fillna(Datos[column].mode()[0], inplace=True)"
   ]
  },
  {
   "cell_type": "code",
   "execution_count": 205,
   "id": "ff0e2041-ed7e-4748-94ce-5d17cd3b73b8",
   "metadata": {},
   "outputs": [
    {
     "name": "stdout",
     "output_type": "stream",
     "text": [
      "Cantidad de valores faltantes en name: 0\n",
      "Cantidad de valores faltantes en year: 0\n",
      "Cantidad de valores faltantes en selling_price: 0\n",
      "Cantidad de valores faltantes en km_driven: 0\n",
      "Cantidad de valores faltantes en fuel: 0\n",
      "Cantidad de valores faltantes en seller_type: 0\n",
      "Cantidad de valores faltantes en transmission: 0\n",
      "Cantidad de valores faltantes en owner: 0\n",
      "Cantidad de valores faltantes en mileage: 0\n",
      "Cantidad de valores faltantes en engine: 0\n",
      "Cantidad de valores faltantes en max_power: 0\n",
      "Cantidad de valores faltantes en torque: 0\n",
      "Cantidad de valores faltantes en seats: 0\n"
     ]
    }
   ],
   "source": [
    "# verificamos que ya no queden valores faltantes en las columnas.\n",
    "for column in Datos.columns:\n",
    "    missing_values = Datos[column].isna().sum()\n",
    "    print(\"Cantidad de valores faltantes en {}: {}\".format(column, missing_values))"
   ]
  },
  {
   "cell_type": "code",
   "execution_count": 206,
   "id": "bcaea83a-c77c-479d-8902-e560a0390481",
   "metadata": {},
   "outputs": [
    {
     "name": "stdout",
     "output_type": "stream",
     "text": [
      "El total de datos atípicos es 2\n"
     ]
    }
   ],
   "source": [
    "# configuramos el siguiente conteo para identificar datos atípicos en los precios.\n",
    "nivel_minimo=30000\n",
    "nivel_maximo=9999999\n",
    "Total_Atipicos=((Datos['selling_price']<nivel_minimo)|(Datos['selling_price']>nivel_maximo)).sum()\n",
    "print(\"El total de datos atípicos es {}\".format(Total_Atipicos))"
   ]
  },
  {
   "cell_type": "code",
   "execution_count": 207,
   "id": "0fa863a0-5302-4216-b4ed-5af92688c6b6",
   "metadata": {},
   "outputs": [
    {
     "name": "stdout",
     "output_type": "stream",
     "text": [
      "El total de datos atípicos es 0\n"
     ]
    }
   ],
   "source": [
    "# filtramos los datos atípicos identificados\n",
    "Datos=Datos[(Datos['selling_price']<nivel_maximo)&(Datos['selling_price']>nivel_minimo)]\n",
    "# verificamos que los datos atípicos se elimanarn\n",
    "Total_Atipicos=((Datos['selling_price']<nivel_minimo)|(Datos['selling_price']>nivel_maximo)).sum()\n",
    "print(\"El total de datos atípicos es {}\".format(Total_Atipicos))"
   ]
  },
  {
   "cell_type": "code",
   "execution_count": 208,
   "id": "073c7897-6871-4427-a9a7-97dcc23ea668",
   "metadata": {},
   "outputs": [
    {
     "name": "stdout",
     "output_type": "stream",
     "text": [
      "<class 'pandas.core.frame.DataFrame'>\n",
      "Index: 8124 entries, 0 to 8127\n",
      "Data columns (total 13 columns):\n",
      " #   Column         Non-Null Count  Dtype  \n",
      "---  ------         --------------  -----  \n",
      " 0   name           8124 non-null   object \n",
      " 1   year           8124 non-null   int64  \n",
      " 2   selling_price  8124 non-null   int64  \n",
      " 3   km_driven      8124 non-null   int64  \n",
      " 4   fuel           8124 non-null   object \n",
      " 5   seller_type    8124 non-null   object \n",
      " 6   transmission   8124 non-null   object \n",
      " 7   owner          8124 non-null   object \n",
      " 8   mileage        8124 non-null   object \n",
      " 9   engine         8124 non-null   object \n",
      " 10  max_power      8124 non-null   object \n",
      " 11  torque         8124 non-null   object \n",
      " 12  seats          8124 non-null   float64\n",
      "dtypes: float64(1), int64(3), object(9)\n",
      "memory usage: 888.6+ KB\n"
     ]
    }
   ],
   "source": [
    "#Revisión del tipo de datos y datos faltantes\n",
    "Datos.info()"
   ]
  },
  {
   "cell_type": "markdown",
   "id": "952fe4b6-e29c-460d-b15b-b1297e896905",
   "metadata": {},
   "source": [
    "# 3."
   ]
  },
  {
   "cell_type": "code",
   "execution_count": 209,
   "id": "7d50b4b8-b93b-415f-8cfa-a9c1f441c4c3",
   "metadata": {},
   "outputs": [
    {
     "data": {
      "text/plain": [
       "selling_price\n",
       "300000     227\n",
       "600000     213\n",
       "350000     209\n",
       "550000     204\n",
       "450000     195\n",
       "          ... \n",
       "308000       1\n",
       "3900000      1\n",
       "2850000      1\n",
       "39000        1\n",
       "746000       1\n",
       "Name: count, Length: 674, dtype: int64"
      ]
     },
     "execution_count": 209,
     "metadata": {},
     "output_type": "execute_result"
    }
   ],
   "source": [
    "# Total de autos por cada uno de los precios del mercado\n",
    "Datos['selling_price'].value_counts()"
   ]
  },
  {
   "cell_type": "markdown",
   "id": "d3e528b0-f98b-4ab4-a473-7d834f084613",
   "metadata": {},
   "source": [
    "# 4."
   ]
  },
  {
   "cell_type": "code",
   "execution_count": 210,
   "id": "9d196208-713d-416c-a8e4-ddc9204c6088",
   "metadata": {},
   "outputs": [],
   "source": [
    "# Porcentaje de datos para entrenamiento (train) = 80% , y para prueba (test) = 20%\n",
    "# Se crean variables X y Y para almacenar la información del entrenamiento\n",
    "X = Datos.drop('selling_price',axis=1) # Se cargan los datos de train sin los datos de la columna Diabetico \n",
    "Y = Datos['selling_price'] # Se cargan los datos de train con los datos de la la columna Diabetico\n",
    "# Convertir características categóricas en variables dummy utilizando la codificación one-hot...\n",
    "X_encoded = pd.get_dummies(X)\n",
    "#La función train_test_split crea una división de un conjunto de datos en dos bloques uno de entrenamiento y otro de prueba (train and test)\n",
    "X_train, X_test, Y_train, Y_test = train_test_split(X_encoded, Y, test_size=0.2, random_state=0)"
   ]
  },
  {
   "cell_type": "code",
   "execution_count": 211,
   "id": "e5f9a259-cc73-44df-a50d-e3eb8aa062aa",
   "metadata": {},
   "outputs": [
    {
     "name": "stdout",
     "output_type": "stream",
     "text": [
      "      year  km_driven  seats  name_Ambassador CLASSIC 1500 DSL AC  \\\n",
      "7438  2013     120000    5.0                                False   \n",
      "7729  2008      70000    8.0                                False   \n",
      "784   2006     120000    8.0                                False   \n",
      "1929  2015      80000    5.0                                False   \n",
      "7470  2017     127991    5.0                                False   \n",
      "...    ...        ...    ...                                  ...   \n",
      "4933  2000     100000    8.0                                False   \n",
      "3266  2018      35000    5.0                                False   \n",
      "1654  2017      90000    5.0                                False   \n",
      "2609  2003     167000    5.0                                False   \n",
      "2734  2014     148000    7.0                                False   \n",
      "\n",
      "      name_Ambassador Classic 2000 DSZ AC PS  \\\n",
      "7438                                   False   \n",
      "7729                                   False   \n",
      "784                                    False   \n",
      "1929                                   False   \n",
      "7470                                   False   \n",
      "...                                      ...   \n",
      "4933                                   False   \n",
      "3266                                   False   \n",
      "1654                                   False   \n",
      "2609                                   False   \n",
      "2734                                   False   \n",
      "\n",
      "      name_Ambassador Grand 1500 DSZ BSIII  \\\n",
      "7438                                 False   \n",
      "7729                                 False   \n",
      "784                                  False   \n",
      "1929                                 False   \n",
      "7470                                 False   \n",
      "...                                    ...   \n",
      "4933                                 False   \n",
      "3266                                 False   \n",
      "1654                                 False   \n",
      "2609                                 False   \n",
      "2734                                 False   \n",
      "\n",
      "      name_Ambassador Grand 2000 DSZ PW CL  name_Ashok Leyland Stile LE  \\\n",
      "7438                                 False                        False   \n",
      "7729                                 False                        False   \n",
      "784                                  False                        False   \n",
      "1929                                 False                        False   \n",
      "7470                                 False                        False   \n",
      "...                                    ...                          ...   \n",
      "4933                                 False                        False   \n",
      "3266                                 False                        False   \n",
      "1654                                 False                        False   \n",
      "2609                                 False                        False   \n",
      "2734                                 False                        False   \n",
      "\n",
      "      name_Audi A3 35 TDI Premium Plus  name_Audi A3 40 TFSI Premium  ...  \\\n",
      "7438                             False                         False  ...   \n",
      "7729                             False                         False  ...   \n",
      "784                              False                         False  ...   \n",
      "1929                             False                         False  ...   \n",
      "7470                             False                         False  ...   \n",
      "...                                ...                           ...  ...   \n",
      "4933                             False                         False  ...   \n",
      "3266                             False                         False  ...   \n",
      "1654                             False                         False  ...   \n",
      "2609                             False                         False  ...   \n",
      "2734                             False                         False  ...   \n",
      "\n",
      "      torque_96.1Nm@ 3000rpm  torque_96Nm@ 2500rpm  torque_96Nm@ 3000rpm  \\\n",
      "7438                   False                 False                 False   \n",
      "7729                   False                 False                 False   \n",
      "784                    False                 False                 False   \n",
      "1929                   False                 False                 False   \n",
      "7470                   False                 False                 False   \n",
      "...                      ...                   ...                   ...   \n",
      "4933                   False                 False                 False   \n",
      "3266                   False                 False                 False   \n",
      "1654                   False                 False                 False   \n",
      "2609                   False                 False                 False   \n",
      "2734                   False                 False                 False   \n",
      "\n",
      "      torque_96Nm@ 3500rpm  torque_98Nm@ 1600-3000rpm  \\\n",
      "7438                 False                      False   \n",
      "7729                 False                      False   \n",
      "784                  False                      False   \n",
      "1929                 False                      False   \n",
      "7470                 False                      False   \n",
      "...                    ...                        ...   \n",
      "4933                 False                      False   \n",
      "3266                 False                      False   \n",
      "1654                 False                      False   \n",
      "2609                 False                      False   \n",
      "2734                 False                      False   \n",
      "\n",
      "      torque_99.04Nm@ 4500rpm  torque_99.07Nm@ 4500rpm  \\\n",
      "7438                    False                    False   \n",
      "7729                    False                    False   \n",
      "784                     False                    False   \n",
      "1929                    False                    False   \n",
      "7470                    False                    False   \n",
      "...                       ...                      ...   \n",
      "4933                    False                    False   \n",
      "3266                    False                    False   \n",
      "1654                    False                    False   \n",
      "2609                    False                    False   \n",
      "2734                    False                    False   \n",
      "\n",
      "      torque_99.1Nm@ 4500rpm  torque_99.8Nm@ 2700rpm  torque_99Nm@ 4500rpm  \n",
      "7438                   False                   False                 False  \n",
      "7729                   False                   False                 False  \n",
      "784                    False                   False                 False  \n",
      "1929                   False                   False                 False  \n",
      "7470                   False                   False                 False  \n",
      "...                      ...                     ...                   ...  \n",
      "4933                   False                   False                 False  \n",
      "3266                   False                   False                 False  \n",
      "1654                   False                   False                 False  \n",
      "2609                   False                   False                 False  \n",
      "2734                   False                   False                 False  \n",
      "\n",
      "[6499 rows x 3348 columns]\n"
     ]
    }
   ],
   "source": [
    "print (X_train)"
   ]
  },
  {
   "cell_type": "code",
   "execution_count": 212,
   "id": "2a386437-b3d3-4ead-8887-26d67032a451",
   "metadata": {},
   "outputs": [
    {
     "name": "stdout",
     "output_type": "stream",
     "text": [
      "7438     300000\n",
      "7729     160000\n",
      "784      220000\n",
      "1929     700000\n",
      "7470     675000\n",
      "         ...   \n",
      "4933      80000\n",
      "3266     780000\n",
      "1654    1250000\n",
      "2609      55000\n",
      "2734     620000\n",
      "Name: selling_price, Length: 6499, dtype: int64\n"
     ]
    }
   ],
   "source": [
    "print (Y_train)"
   ]
  },
  {
   "cell_type": "markdown",
   "id": "c765c272-9193-40c2-b071-9123665e7361",
   "metadata": {},
   "source": [
    "# 5."
   ]
  },
  {
   "cell_type": "code",
   "execution_count": 213,
   "id": "c7f48c51-e260-4d6d-9a5b-467e9f02af38",
   "metadata": {},
   "outputs": [],
   "source": [
    "# Construimos el modelo de regresión lineal\n",
    "modelo_regresion_lineal = LinearRegression()\n",
    "modelo_regresion_lineal.fit(X_train, Y_train)\n",
    "# Creamos el modelo de predicción \n",
    "predicciones = modelo_regresion_lineal.predict(X_test)"
   ]
  },
  {
   "cell_type": "code",
   "execution_count": 214,
   "id": "1d9ed978-039a-4846-a37c-91fdc2f1f750",
   "metadata": {},
   "outputs": [
    {
     "name": "stdout",
     "output_type": "stream",
     "text": [
      "381      625000\n",
      "3643     900000\n",
      "274      300000\n",
      "1030     450000\n",
      "685      370000\n",
      "         ...   \n",
      "3537     850000\n",
      "1644     420000\n",
      "6497    1000000\n",
      "6         96000\n",
      "3177     825000\n",
      "Name: selling_price, Length: 1625, dtype: int64\n"
     ]
    }
   ],
   "source": [
    "print (Y_test)"
   ]
  },
  {
   "cell_type": "markdown",
   "id": "0b865020-15bc-4f8a-a706-8c12f28f5e89",
   "metadata": {},
   "source": [
    "# 6."
   ]
  },
  {
   "cell_type": "code",
   "execution_count": 215,
   "id": "a165de8d-8506-4e95-997d-97418e458917",
   "metadata": {},
   "outputs": [
    {
     "name": "stdout",
     "output_type": "stream",
     "text": [
      "Error cuadrático medio (MSE): 2.8079876921788643e+21\n"
     ]
    }
   ],
   "source": [
    "# Desempeño del modelo de regresión\n",
    "# Calcular el error cuadrático medio (MSE)\n",
    "mse = mean_squared_error(Y_test, predicciones)\n",
    "print(\"Error cuadrático medio (MSE):\", mse)"
   ]
  },
  {
   "cell_type": "code",
   "execution_count": 216,
   "id": "edeee080-0dca-4d2b-9c80-ccf144e3e1d9",
   "metadata": {},
   "outputs": [
    {
     "name": "stdout",
     "output_type": "stream",
     "text": [
      "Error absoluto medio (MAE): 7981733021.319772\n"
     ]
    }
   ],
   "source": [
    "# Calcular el error absoluto medio (MAE)\n",
    "mae = mean_absolute_error(Y_test, predicciones)\n",
    "print(\"Error absoluto medio (MAE):\", mae)"
   ]
  },
  {
   "cell_type": "code",
   "execution_count": 217,
   "id": "2c1e2b18-5757-4b2b-bd22-2c2d1b569c04",
   "metadata": {},
   "outputs": [
    {
     "name": "stdout",
     "output_type": "stream",
     "text": [
      "Coeficiente de determinación (R^2): -4075920383.580468\n"
     ]
    }
   ],
   "source": [
    "# Calcular el coeficiente de determinación (R^2)\n",
    "r2 = r2_score(Y_test, predicciones)\n",
    "print(\"Coeficiente de determinación (R^2):\", r2)"
   ]
  },
  {
   "cell_type": "markdown",
   "id": "c3b64967-5859-4387-a654-1919b30c959d",
   "metadata": {},
   "source": [
    "# 7."
   ]
  },
  {
   "cell_type": "code",
   "execution_count": 218,
   "id": "abc39b49-6db7-43c1-b360-8399bcd894e2",
   "metadata": {},
   "outputs": [
    {
     "data": {
      "image/png": "[encoded data removed]",
      "text/plain": [
       "<Figure size 800x600 with 1 Axes>"
      ]
     },
     "metadata": {},
     "output_type": "display_data"
    }
   ],
   "source": [
    "# Gráfico de dispersión de precios reales vs. precios predichos:\n",
    "plt.figure(figsize=(8, 6))\n",
    "plt.scatter(Y_test, predicciones, color='blue')\n",
    "plt.title('Precios reales vs. Precios predichos')\n",
    "plt.xlabel('Precios reales')\n",
    "plt.ylabel('Precios predichos')\n",
    "plt.plot([min(Y_test), max(Y_test)], [min(Y_test), max(Y_test)], linestyle='--', color='red')  # Línea de referencia\n",
    "plt.show()"
   ]
  },
  {
   "cell_type": "code",
   "execution_count": 219,
   "id": "485cce9f-337a-4255-9456-fb4da6a1c9cf",
   "metadata": {},
   "outputs": [
    {
     "data": {
      "image/png": "[encoded data removed]",
      "text/plain": [
       "<Figure size 800x600 with 1 Axes>"
      ]
     },
     "metadata": {},
     "output_type": "display_data"
    }
   ],
   "source": [
    "# Gráfico de residuos:\n",
    "residuos = Y_test - predicciones\n",
    "plt.figure(figsize=(8, 6))\n",
    "plt.scatter(Y_test, residuos, color='green')\n",
    "plt.title('Gráfico de residuos')\n",
    "plt.xlabel('Precios reales')\n",
    "plt.ylabel('Residuos')\n",
    "plt.axhline(y=0, color='red', linestyle='--')  # Línea horizontal en y=0\n",
    "plt.show()"
   ]
  },
  {
   "cell_type": "code",
   "execution_count": 221,
   "id": "1b290e34-6a0b-4dea-ad2d-0e2534d3d00f",
   "metadata": {},
   "outputs": [
    {
     "name": "stderr",
     "output_type": "stream",
     "text": [
      "C:\\Users\\usuario\\anaconda3\\Lib\\site-packages\\seaborn\\_oldcore.py:1119: FutureWarning: use_inf_as_na option is deprecated and will be removed in a future version. Convert inf values to NaN before operating instead.\n",
      "  with pd.option_context('mode.use_inf_as_na', True):\n"
     ]
    },
    {
     "data": {
      "image/png": "[encoded data removed]",
      "text/plain": [
       "<Figure size 800x600 with 1 Axes>"
      ]
     },
     "metadata": {},
     "output_type": "display_data"
    }
   ],
   "source": [
    "# Histograma de residuos:\n",
    "plt.figure(figsize=(8, 6))\n",
    "sns.histplot(residuos, bins=30, kde=True, color='orange')\n",
    "plt.title('Distribución de los residuos')\n",
    "plt.xlabel('Residuos')\n",
    "plt.ylabel('Frecuencia')\n",
    "plt.show()"
   ]
  },
  {
   "cell_type": "markdown",
   "id": "14c490c3-54a7-42cc-835a-04161d75d65a",
   "metadata": {},
   "source": [
    "# 8."
   ]
  },
  {
   "cell_type": "markdown",
   "id": "1689d1b5-62b1-47c8-ba2d-095b75701cc8",
   "metadata": {},
   "source": [
    ". Gráfico de dispersión de precios reales vs. precios predichos:\n",
    "Al observar el gráfico, notamos que la mayoría de los puntos están bastante cerca de la línea de referencia (línea diagonal roja), lo que indica que las predicciones del modelo están en general cercanas a los valores reales. Sin embargo, hay algunas instancias donde las predicciones se alejan significativamente de los valores reales, especialmente en los extremos del rango de precios.\n Verdaderos Negativos (Superior Izquierdo): El modelo predijo correctamente 36 casos como clase 0.
Falsos Positivos (Superior Derecho): El modelo predijo incorrectamente 4 casos como clase 1 cuando en realidad eran clase 0.
Falsos Negativos (Inferior Izquierdo): El modelo predijo incorrectamente 5 casos como clase 0 cuando en realidad eran clase 1.
Verdaderos Positivos (Inferior Derecho): El modelo predijo correctamente 29 casos como clase 1.",
    "\n",
    ". Gráfico de residuos:\n",
    "Los residuos, que son las diferencias entre los valores reales y los valores predichos, parecen estar distribuidos aleatoriamente alrededor de la línea horizontal en y=0. Esto sugiere que el modelo de regresión lineal puede estar capturando la mayoría de la variabilidad en los datos. No obstante, hay algunas áreas donde los residuos se desvían considerablemente de cero, indicando que el modelo puede estar sesgado en ciertos rangos de precios.\n",
    "\n",
    ". Histograma de residuos:\n",
    "Al observar la distribución de los residuos en el histograma, vemos que sigue aproximadamente una distribución normal. Este patrón es un buen indicador de que el modelo está capturando la mayor parte de la variabilidad en los datos y no está sesgado de manera significativa.\n",
    "\n",
    "Error cuadrático medio (MSE): Cuanto más cercano a cero sea el valor del MSE, mejor será el ajuste del modelo a los datos. Un MSE más alto indica que el modelo tiene una peor precisión.\n",
    "Error absoluto medio (MAE): Cuanto más cercano a cero sea el valor del MAE, mejor será el ajuste del modelo a los datos. Un MAE más alto indica que el modelo tiene una peor precisión.\n",
    "Coeficiente de determinación (R^2): Mide la proporción de la varianza en la variable dependiente que es predecible a partir de las variables independientes. Un valor de R^2 cercano a 1 indica un buen ajuste del modelo a los datos, mientras que un valor cercano a 0 indica un ajuste deficiente.\n",
    "En resumen, aunque el modelo parece capturar la tendencia general de los precios de los autos, existen algunas áreas de mejora, especialmente en la precisión de las predicciones en los extremos del rango de precios los valores extremadamente altos del MSE y MAE, junto con el R^2 negativo, indican que el modelo actual tiene áreas de mejora para obtener resultados mas precisos.\n",
    "\n",
    "\n",
    "\n"
   ]
  }
 ],
 "metadata": {
  "kernelspec": {
   "display_name": "Python 3 (ipykernel)",
   "language": "python",
   "name": "python3"
  },
  "language_info": {
   "codemirror_mode": {
    "name": "ipython",
    "version": 3
   },
   "file_extension": ".py",
   "mimetype": "text/x-python",
   "name": "python",
   "nbconvert_exporter": "python",
   "pygments_lexer": "ipython3",
   "version": "3.11.7"
  }
 },
 "nbformat": 4,
 "nbformat_minor": 5
}
