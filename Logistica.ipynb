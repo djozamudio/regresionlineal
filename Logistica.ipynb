{
 "cells": [
  {
   "attachments": {},
   "cell_type": "markdown",
   "id": "afccb372-c811-4710-93fa-db94150910ec",
   "metadata": {},
   "source": [
    "# Regresíon Logistica\n",
    "1. Realizar un análisis exploratorio de los datos para identificar relaciones entre variables, valores atípicos, tendencias, etc.\n",
    "2. Preprocesar los datos limpiándolos, tratando valores faltantes y transformándolos según sea necesario\n",
    "3. Seleccionar las características más relevantes para entrenar el modelo utilizando selección de características\n",
    "4. Dividir el dataset en Train y Test para evaluar correctamente el modelo\n",
    "5. Entrenar el modelo configurando los diferentes hiperparámetros\n",
    "6. Evaluar el desempeño del modelo en el conjunto de Test con métricas como precisión, recall, F1-score, etc\n",
    "7. Realizar las diferentes gráficas que permitan visualizar los resultados del modelo.\n",
    "8. Interpretar, analizar y documentar los resultados obtenidos\n",
    "9. Crear una cuenta en GitHub y cargar los códigos de los modelos diseñados https://github.com/ "
   ]
  },
  {
   "cell_type": "markdown",
   "id": "53f167a9-6890-4097-b4a5-e7f22672e6a1",
   "metadata": {},
   "source": [
    "## 1. "
   ]
  },
  {
   "cell_type": "code",
   "execution_count": 16,
   "id": "a1593306-6eb1-4251-9c81-081d79c78511",
   "metadata": {},
   "outputs": [],
   "source": [
    "#Realizamos la carga de las librerias\n",
    "import pandas as pd \n",
    "import numpy as np # \n",
    "import seaborn as sns \n",
    "import matplotlib.pyplot as plt \n",
    "\n",
    "# carga de librerias del modelo de regresíon logistica\n",
    "from sklearn import metrics\n",
    "from sklearn.model_selection import train_test_split\n",
    "from sklearn.linear_model import LogisticRegression\n",
    "\n",
    "#from sklearn.linear_model import LinearRegression -> Librería para Regresión Lineal\n",
    "from sklearn.metrics import classification_report, confusion_matrix\n",
    "\n"
   ]
  },
  {
   "cell_type": "code",
   "execution_count": 17,
   "id": "f3962b87-10dd-43e4-92f5-be80aa2f66b4",
   "metadata": {},
   "outputs": [],
   "source": [
    "# lectura de datos en Python y lo cargamos en la variable Datos\n",
    "\n",
    "Datos = pd.read_csv('C:\\\\Users\\\\usuario\\\\Desktop\\\\Data set tarea 2\\\\heart_cleveland_upload.csv')"
   ]
  },
  {
   "cell_type": "code",
   "execution_count": 29,
   "id": "417586f1-3f2c-41ff-b924-f092a415f940",
   "metadata": {},
   "outputs": [
    {
     "data": {
      "text/html": [
       "<div>\n",
       "<style scoped>\n",
       "    .dataframe tbody tr th:only-of-type {\n",
       "        vertical-align: middle;\n",
       "    }\n",
       "\n",
       "    .dataframe tbody tr th {\n",
       "        vertical-align: top;\n",
       "    }\n",
       "\n",
       "    .dataframe thead th {\n",
       "        text-align: right;\n",
       "    }\n",
       "</style>\n",
       "<table border=\"1\" class=\"dataframe\">\n",
       "  <thead>\n",
       "    <tr style=\"text-align: right;\">\n",
       "      <th></th>\n",
       "      <th>age</th>\n",
       "      <th>sex</th>\n",
       "      <th>cp</th>\n",
       "      <th>trestbps</th>\n",
       "      <th>chol</th>\n",
       "      <th>fbs</th>\n",
       "      <th>restecg</th>\n",
       "      <th>thalach</th>\n",
       "      <th>exang</th>\n",
       "      <th>oldpeak</th>\n",
       "      <th>slope</th>\n",
       "      <th>ca</th>\n",
       "      <th>thal</th>\n",
       "      <th>condition</th>\n",
       "    </tr>\n",
       "  </thead>\n",
       "  <tbody>\n",
       "    <tr>\n",
       "      <th>0</th>\n",
       "      <td>69</td>\n",
       "      <td>1</td>\n",
       "      <td>0</td>\n",
       "      <td>160</td>\n",
       "      <td>234</td>\n",
       "      <td>1</td>\n",
       "      <td>2</td>\n",
       "      <td>131</td>\n",
       "      <td>0</td>\n",
       "      <td>0.1</td>\n",
       "      <td>1</td>\n",
       "      <td>1</td>\n",
       "      <td>0</td>\n",
       "      <td>0</td>\n",
       "    </tr>\n",
       "    <tr>\n",
       "      <th>1</th>\n",
       "      <td>69</td>\n",
       "      <td>0</td>\n",
       "      <td>0</td>\n",
       "      <td>140</td>\n",
       "      <td>239</td>\n",
       "      <td>0</td>\n",
       "      <td>0</td>\n",
       "      <td>151</td>\n",
       "      <td>0</td>\n",
       "      <td>1.8</td>\n",
       "      <td>0</td>\n",
       "      <td>2</td>\n",
       "      <td>0</td>\n",
       "      <td>0</td>\n",
       "    </tr>\n",
       "    <tr>\n",
       "      <th>2</th>\n",
       "      <td>66</td>\n",
       "      <td>0</td>\n",
       "      <td>0</td>\n",
       "      <td>150</td>\n",
       "      <td>226</td>\n",
       "      <td>0</td>\n",
       "      <td>0</td>\n",
       "      <td>114</td>\n",
       "      <td>0</td>\n",
       "      <td>2.6</td>\n",
       "      <td>2</td>\n",
       "      <td>0</td>\n",
       "      <td>0</td>\n",
       "      <td>0</td>\n",
       "    </tr>\n",
       "    <tr>\n",
       "      <th>3</th>\n",
       "      <td>65</td>\n",
       "      <td>1</td>\n",
       "      <td>0</td>\n",
       "      <td>138</td>\n",
       "      <td>282</td>\n",
       "      <td>1</td>\n",
       "      <td>2</td>\n",
       "      <td>174</td>\n",
       "      <td>0</td>\n",
       "      <td>1.4</td>\n",
       "      <td>1</td>\n",
       "      <td>1</td>\n",
       "      <td>0</td>\n",
       "      <td>1</td>\n",
       "    </tr>\n",
       "    <tr>\n",
       "      <th>4</th>\n",
       "      <td>64</td>\n",
       "      <td>1</td>\n",
       "      <td>0</td>\n",
       "      <td>110</td>\n",
       "      <td>211</td>\n",
       "      <td>0</td>\n",
       "      <td>2</td>\n",
       "      <td>144</td>\n",
       "      <td>1</td>\n",
       "      <td>1.8</td>\n",
       "      <td>1</td>\n",
       "      <td>0</td>\n",
       "      <td>0</td>\n",
       "      <td>0</td>\n",
       "    </tr>\n",
       "    <tr>\n",
       "      <th>...</th>\n",
       "      <td>...</td>\n",
       "      <td>...</td>\n",
       "      <td>...</td>\n",
       "      <td>...</td>\n",
       "      <td>...</td>\n",
       "      <td>...</td>\n",
       "      <td>...</td>\n",
       "      <td>...</td>\n",
       "      <td>...</td>\n",
       "      <td>...</td>\n",
       "      <td>...</td>\n",
       "      <td>...</td>\n",
       "      <td>...</td>\n",
       "      <td>...</td>\n",
       "    </tr>\n",
       "    <tr>\n",
       "      <th>292</th>\n",
       "      <td>40</td>\n",
       "      <td>1</td>\n",
       "      <td>3</td>\n",
       "      <td>152</td>\n",
       "      <td>223</td>\n",
       "      <td>0</td>\n",
       "      <td>0</td>\n",
       "      <td>181</td>\n",
       "      <td>0</td>\n",
       "      <td>0.0</td>\n",
       "      <td>0</td>\n",
       "      <td>0</td>\n",
       "      <td>2</td>\n",
       "      <td>1</td>\n",
       "    </tr>\n",
       "    <tr>\n",
       "      <th>293</th>\n",
       "      <td>39</td>\n",
       "      <td>1</td>\n",
       "      <td>3</td>\n",
       "      <td>118</td>\n",
       "      <td>219</td>\n",
       "      <td>0</td>\n",
       "      <td>0</td>\n",
       "      <td>140</td>\n",
       "      <td>0</td>\n",
       "      <td>1.2</td>\n",
       "      <td>1</td>\n",
       "      <td>0</td>\n",
       "      <td>2</td>\n",
       "      <td>1</td>\n",
       "    </tr>\n",
       "    <tr>\n",
       "      <th>294</th>\n",
       "      <td>35</td>\n",
       "      <td>1</td>\n",
       "      <td>3</td>\n",
       "      <td>120</td>\n",
       "      <td>198</td>\n",
       "      <td>0</td>\n",
       "      <td>0</td>\n",
       "      <td>130</td>\n",
       "      <td>1</td>\n",
       "      <td>1.6</td>\n",
       "      <td>1</td>\n",
       "      <td>0</td>\n",
       "      <td>2</td>\n",
       "      <td>1</td>\n",
       "    </tr>\n",
       "    <tr>\n",
       "      <th>295</th>\n",
       "      <td>35</td>\n",
       "      <td>0</td>\n",
       "      <td>3</td>\n",
       "      <td>138</td>\n",
       "      <td>183</td>\n",
       "      <td>0</td>\n",
       "      <td>0</td>\n",
       "      <td>182</td>\n",
       "      <td>0</td>\n",
       "      <td>1.4</td>\n",
       "      <td>0</td>\n",
       "      <td>0</td>\n",
       "      <td>0</td>\n",
       "      <td>0</td>\n",
       "    </tr>\n",
       "    <tr>\n",
       "      <th>296</th>\n",
       "      <td>35</td>\n",
       "      <td>1</td>\n",
       "      <td>3</td>\n",
       "      <td>126</td>\n",
       "      <td>282</td>\n",
       "      <td>0</td>\n",
       "      <td>2</td>\n",
       "      <td>156</td>\n",
       "      <td>1</td>\n",
       "      <td>0.0</td>\n",
       "      <td>0</td>\n",
       "      <td>0</td>\n",
       "      <td>2</td>\n",
       "      <td>1</td>\n",
       "    </tr>\n",
       "  </tbody>\n",
       "</table>\n",
       "<p>297 rows × 14 columns</p>\n",
       "</div>"
      ],
      "text/plain": [
       "     age  sex  cp  trestbps  chol  fbs  restecg  thalach  exang  oldpeak  \\\n",
       "0     69    1   0       160   234    1        2      131      0      0.1   \n",
       "1     69    0   0       140   239    0        0      151      0      1.8   \n",
       "2     66    0   0       150   226    0        0      114      0      2.6   \n",
       "3     65    1   0       138   282    1        2      174      0      1.4   \n",
       "4     64    1   0       110   211    0        2      144      1      1.8   \n",
       "..   ...  ...  ..       ...   ...  ...      ...      ...    ...      ...   \n",
       "292   40    1   3       152   223    0        0      181      0      0.0   \n",
       "293   39    1   3       118   219    0        0      140      0      1.2   \n",
       "294   35    1   3       120   198    0        0      130      1      1.6   \n",
       "295   35    0   3       138   183    0        0      182      0      1.4   \n",
       "296   35    1   3       126   282    0        2      156      1      0.0   \n",
       "\n",
       "     slope  ca  thal  condition  \n",
       "0        1   1     0          0  \n",
       "1        0   2     0          0  \n",
       "2        2   0     0          0  \n",
       "3        1   1     0          1  \n",
       "4        1   0     0          0  \n",
       "..     ...  ..   ...        ...  \n",
       "292      0   0     2          1  \n",
       "293      1   0     2          1  \n",
       "294      1   0     2          1  \n",
       "295      0   0     0          0  \n",
       "296      0   0     2          1  \n",
       "\n",
       "[297 rows x 14 columns]"
      ]
     },
     "execution_count": 29,
     "metadata": {},
     "output_type": "execute_result"
    }
   ],
   "source": [
    "# Realizamos lectura de los Datos para el análisis exploratorio\n",
    "\n",
    "Datos.head(300)"
   ]
  },
  {
   "cell_type": "code",
   "execution_count": 15,
   "id": "4c6cb377-34e2-4ae9-b6d6-46360f678a2e",
   "metadata": {},
   "outputs": [
    {
     "data": {
      "text/html": [
       "<div>\n",
       "<style scoped>\n",
       "    .dataframe tbody tr th:only-of-type {\n",
       "        vertical-align: middle;\n",
       "    }\n",
       "\n",
       "    .dataframe tbody tr th {\n",
       "        vertical-align: top;\n",
       "    }\n",
       "\n",
       "    .dataframe thead th {\n",
       "        text-align: right;\n",
       "    }\n",
       "</style>\n",
       "<table border=\"1\" class=\"dataframe\">\n",
       "  <thead>\n",
       "    <tr style=\"text-align: right;\">\n",
       "      <th></th>\n",
       "      <th>age</th>\n",
       "      <th>sex</th>\n",
       "      <th>cp</th>\n",
       "      <th>trestbps</th>\n",
       "      <th>chol</th>\n",
       "      <th>fbs</th>\n",
       "      <th>restecg</th>\n",
       "      <th>thalach</th>\n",
       "      <th>exang</th>\n",
       "      <th>oldpeak</th>\n",
       "      <th>slope</th>\n",
       "      <th>ca</th>\n",
       "      <th>thal</th>\n",
       "      <th>condition</th>\n",
       "    </tr>\n",
       "  </thead>\n",
       "  <tbody>\n",
       "    <tr>\n",
       "      <th>count</th>\n",
       "      <td>297.000000</td>\n",
       "      <td>297.000000</td>\n",
       "      <td>297.000000</td>\n",
       "      <td>297.000000</td>\n",
       "      <td>297.000000</td>\n",
       "      <td>297.000000</td>\n",
       "      <td>297.000000</td>\n",
       "      <td>297.000000</td>\n",
       "      <td>297.000000</td>\n",
       "      <td>297.000000</td>\n",
       "      <td>297.000000</td>\n",
       "      <td>297.000000</td>\n",
       "      <td>297.000000</td>\n",
       "      <td>297.000000</td>\n",
       "    </tr>\n",
       "    <tr>\n",
       "      <th>mean</th>\n",
       "      <td>54.542088</td>\n",
       "      <td>0.676768</td>\n",
       "      <td>2.158249</td>\n",
       "      <td>131.693603</td>\n",
       "      <td>247.350168</td>\n",
       "      <td>0.144781</td>\n",
       "      <td>0.996633</td>\n",
       "      <td>149.599327</td>\n",
       "      <td>0.326599</td>\n",
       "      <td>1.055556</td>\n",
       "      <td>0.602694</td>\n",
       "      <td>0.676768</td>\n",
       "      <td>0.835017</td>\n",
       "      <td>0.461279</td>\n",
       "    </tr>\n",
       "    <tr>\n",
       "      <th>std</th>\n",
       "      <td>9.049736</td>\n",
       "      <td>0.468500</td>\n",
       "      <td>0.964859</td>\n",
       "      <td>17.762806</td>\n",
       "      <td>51.997583</td>\n",
       "      <td>0.352474</td>\n",
       "      <td>0.994914</td>\n",
       "      <td>22.941562</td>\n",
       "      <td>0.469761</td>\n",
       "      <td>1.166123</td>\n",
       "      <td>0.618187</td>\n",
       "      <td>0.938965</td>\n",
       "      <td>0.956690</td>\n",
       "      <td>0.499340</td>\n",
       "    </tr>\n",
       "    <tr>\n",
       "      <th>min</th>\n",
       "      <td>29.000000</td>\n",
       "      <td>0.000000</td>\n",
       "      <td>0.000000</td>\n",
       "      <td>94.000000</td>\n",
       "      <td>126.000000</td>\n",
       "      <td>0.000000</td>\n",
       "      <td>0.000000</td>\n",
       "      <td>71.000000</td>\n",
       "      <td>0.000000</td>\n",
       "      <td>0.000000</td>\n",
       "      <td>0.000000</td>\n",
       "      <td>0.000000</td>\n",
       "      <td>0.000000</td>\n",
       "      <td>0.000000</td>\n",
       "    </tr>\n",
       "    <tr>\n",
       "      <th>25%</th>\n",
       "      <td>48.000000</td>\n",
       "      <td>0.000000</td>\n",
       "      <td>2.000000</td>\n",
       "      <td>120.000000</td>\n",
       "      <td>211.000000</td>\n",
       "      <td>0.000000</td>\n",
       "      <td>0.000000</td>\n",
       "      <td>133.000000</td>\n",
       "      <td>0.000000</td>\n",
       "      <td>0.000000</td>\n",
       "      <td>0.000000</td>\n",
       "      <td>0.000000</td>\n",
       "      <td>0.000000</td>\n",
       "      <td>0.000000</td>\n",
       "    </tr>\n",
       "    <tr>\n",
       "      <th>50%</th>\n",
       "      <td>56.000000</td>\n",
       "      <td>1.000000</td>\n",
       "      <td>2.000000</td>\n",
       "      <td>130.000000</td>\n",
       "      <td>243.000000</td>\n",
       "      <td>0.000000</td>\n",
       "      <td>1.000000</td>\n",
       "      <td>153.000000</td>\n",
       "      <td>0.000000</td>\n",
       "      <td>0.800000</td>\n",
       "      <td>1.000000</td>\n",
       "      <td>0.000000</td>\n",
       "      <td>0.000000</td>\n",
       "      <td>0.000000</td>\n",
       "    </tr>\n",
       "    <tr>\n",
       "      <th>75%</th>\n",
       "      <td>61.000000</td>\n",
       "      <td>1.000000</td>\n",
       "      <td>3.000000</td>\n",
       "      <td>140.000000</td>\n",
       "      <td>276.000000</td>\n",
       "      <td>0.000000</td>\n",
       "      <td>2.000000</td>\n",
       "      <td>166.000000</td>\n",
       "      <td>1.000000</td>\n",
       "      <td>1.600000</td>\n",
       "      <td>1.000000</td>\n",
       "      <td>1.000000</td>\n",
       "      <td>2.000000</td>\n",
       "      <td>1.000000</td>\n",
       "    </tr>\n",
       "    <tr>\n",
       "      <th>max</th>\n",
       "      <td>77.000000</td>\n",
       "      <td>1.000000</td>\n",
       "      <td>3.000000</td>\n",
       "      <td>200.000000</td>\n",
       "      <td>564.000000</td>\n",
       "      <td>1.000000</td>\n",
       "      <td>2.000000</td>\n",
       "      <td>202.000000</td>\n",
       "      <td>1.000000</td>\n",
       "      <td>6.200000</td>\n",
       "      <td>2.000000</td>\n",
       "      <td>3.000000</td>\n",
       "      <td>2.000000</td>\n",
       "      <td>1.000000</td>\n",
       "    </tr>\n",
       "  </tbody>\n",
       "</table>\n",
       "</div>"
      ],
      "text/plain": [
       "              age         sex          cp    trestbps        chol         fbs  \\\n",
       "count  297.000000  297.000000  297.000000  297.000000  297.000000  297.000000   \n",
       "mean    54.542088    0.676768    2.158249  131.693603  247.350168    0.144781   \n",
       "std      9.049736    0.468500    0.964859   17.762806   51.997583    0.352474   \n",
       "min     29.000000    0.000000    0.000000   94.000000  126.000000    0.000000   \n",
       "25%     48.000000    0.000000    2.000000  120.000000  211.000000    0.000000   \n",
       "50%     56.000000    1.000000    2.000000  130.000000  243.000000    0.000000   \n",
       "75%     61.000000    1.000000    3.000000  140.000000  276.000000    0.000000   \n",
       "max     77.000000    1.000000    3.000000  200.000000  564.000000    1.000000   \n",
       "\n",
       "          restecg     thalach       exang     oldpeak       slope          ca  \\\n",
       "count  297.000000  297.000000  297.000000  297.000000  297.000000  297.000000   \n",
       "mean     0.996633  149.599327    0.326599    1.055556    0.602694    0.676768   \n",
       "std      0.994914   22.941562    0.469761    1.166123    0.618187    0.938965   \n",
       "min      0.000000   71.000000    0.000000    0.000000    0.000000    0.000000   \n",
       "25%      0.000000  133.000000    0.000000    0.000000    0.000000    0.000000   \n",
       "50%      1.000000  153.000000    0.000000    0.800000    1.000000    0.000000   \n",
       "75%      2.000000  166.000000    1.000000    1.600000    1.000000    1.000000   \n",
       "max      2.000000  202.000000    1.000000    6.200000    2.000000    3.000000   \n",
       "\n",
       "             thal   condition  \n",
       "count  297.000000  297.000000  \n",
       "mean     0.835017    0.461279  \n",
       "std      0.956690    0.499340  \n",
       "min      0.000000    0.000000  \n",
       "25%      0.000000    0.000000  \n",
       "50%      0.000000    0.000000  \n",
       "75%      2.000000    1.000000  \n",
       "max      2.000000    1.000000  "
      ]
     },
     "execution_count": 15,
     "metadata": {},
     "output_type": "execute_result"
    }
   ],
   "source": [
    "# Descripción de los datos\n",
    "Datos.describe()"
   ]
  },
  {
   "cell_type": "code",
   "execution_count": 19,
   "id": "d9243992-5516-4bce-a852-444b12f5a3f5",
   "metadata": {},
   "outputs": [
    {
     "data": {
      "text/plain": [
       "Text(0.5, 1.0, 'Identificación de Datos Faltantes y Atípicos')"
      ]
     },
     "execution_count": 19,
     "metadata": {},
     "output_type": "execute_result"
    },
    {
     "data": {
      "image/png": "[encoded data removed]",
      "text/plain": [
       "<Figure size 600x300 with 1 Axes>"
      ]
     },
     "metadata": {},
     "output_type": "display_data"
    }
   ],
   "source": [
    "#Identificación de Datos Faltantes y Atípicos\n",
    "\n",
    "plt.figure(figsize=(6, 3))\n",
    "sns.boxplot(x=Datos['cp'])\n",
    "plt.title('Identificación de Datos Faltantes y Atípicos', fontsize=10 )"
   ]
  },
  {
   "cell_type": "markdown",
   "id": "32200dec-75cb-4ae8-8933-c1a827abbcd9",
   "metadata": {},
   "source": [
    "## 2. "
   ]
  },
  {
   "cell_type": "code",
   "execution_count": 27,
   "id": "b23fdb74-0251-41a2-88a7-32a0d3707e3c",
   "metadata": {},
   "outputs": [
    {
     "name": "stdout",
     "output_type": "stream",
     "text": [
      "Cantidad de valores igual a cero en age: 0\n",
      "Cantidad de valores igual a cero en sex: 96\n",
      "Cantidad de valores igual a cero en cp: 23\n",
      "Cantidad de valores igual a cero en trestbps: 0\n",
      "Cantidad de valores igual a cero en chol: 0\n",
      "Cantidad de valores igual a cero en fbs: 254\n",
      "Cantidad de valores igual a cero en restecg: 147\n",
      "Cantidad de valores igual a cero en thalach: 0\n",
      "Cantidad de valores igual a cero en exang: 200\n",
      "Cantidad de valores igual a cero en oldpeak: 96\n",
      "Cantidad de valores igual a cero en slope: 139\n",
      "Cantidad de valores igual a cero en ca: 174\n",
      "Cantidad de valores igual a cero en thal: 164\n",
      "Cantidad de valores igual a cero en condition: 160\n"
     ]
    }
   ],
   "source": [
    "#Revisión de datos faltantes\n",
    "\n",
    "for column in Datos.columns:\n",
    "    zero_values = (Datos[column] == 0).sum()\n",
    "    print(\"Cantidad de valores igual a cero en {}: {}\".format(column, zero_values))"
   ]
  },
  {
   "cell_type": "code",
   "execution_count": 31,
   "id": "704f110b-8442-45ee-b782-a0a5d66620d2",
   "metadata": {},
   "outputs": [],
   "source": [
    "# Reemplazar todos los ceros con el valor medio (promedio) de la columna en este \n",
    "# caso para el ejercicio vamos solo a cambiar los datos de la variable cp que corresponde\n",
    "# a tipo de dolor de pecho ya que otras variables con datos en 0 se pueden interpretar como \n",
    "# datos que entregan cierta información que no podemos obviar.\n",
    "Datos['cp']=Datos['cp'].replace(0,Datos['cp'].mean())\n"
   ]
  },
  {
   "cell_type": "code",
   "execution_count": 33,
   "id": "04b1d05b-c96d-4aec-b012-5d8e2d18a9ba",
   "metadata": {},
   "outputs": [
    {
     "name": "stdout",
     "output_type": "stream",
     "text": [
      "Cantidad de Registros con cero en chest pain:  0\n"
     ]
    }
   ],
   "source": [
    "#Revisión nuevamente de datos faltantes\n",
    "\n",
    "print(\"Cantidad de Registros con cero en chest pain: \",Datos['cp'].isin([0]).sum())\n"
   ]
  },
  {
   "cell_type": "code",
   "execution_count": 44,
   "id": "3b029630-c42d-434f-a010-ae6d670ca9de",
   "metadata": {},
   "outputs": [
    {
     "data": {
      "text/plain": [
       "Text(0.5, 1.0, 'Identificación de Datos Atípicos')"
      ]
     },
     "execution_count": 44,
     "metadata": {},
     "output_type": "execute_result"
    },
    {
     "data": {
      "image/png": "[encoded data removed]",
      "text/plain": [
       "<Figure size 600x300 with 1 Axes>"
      ]
     },
     "metadata": {},
     "output_type": "display_data"
    },
    {
     "data": {
      "image/png": "[encoded data removed]",
      "text/plain": [
       "<Figure size 600x300 with 1 Axes>"
      ]
     },
     "metadata": {},
     "output_type": "display_data"
    }
   ],
   "source": [
    "#Identificación de Datos Atípicos en este caso vamos a ver algunos datos fuera del rango comun\n",
    "# en las variables de colesterol y maximo ritmo cardiaco \n",
    "\n",
    "plt.figure(figsize=(6, 3))\n",
    "sns.boxplot(x=Datos['thalach'])\n",
    "plt.title('Identificación de Datos Atípicos', fontsize=10 )\n",
    "plt.figure(figsize=(6, 3))\n",
    "sns.boxplot(x=Datos['chol'])\n",
    "plt.title('Identificación de Datos Atípicos', fontsize=10 )\n",
    "\n"
   ]
  },
  {
   "cell_type": "code",
   "execution_count": 55,
   "id": "10dafccd-2812-420e-95d3-7414d31fc735",
   "metadata": {},
   "outputs": [
    {
     "name": "stdout",
     "output_type": "stream",
     "text": [
      "El total de datos atípicos en 'chol' es 1\n",
      "El total de datos atípicos en 'thalach' es 1\n"
     ]
    }
   ],
   "source": [
    "#Conteo de Datos Atípicos, para el ejemplo vamos a utilizar el dato más bajo de colesterol\n",
    "# y el dato más alto del máximo ritmo cardiaco\n",
    "\n",
    "nivel_minimo=80\n",
    "nivel_maximo=500\n",
    "Total_Atipicos=((Datos['chol']<nivel_minimo)|(Datos['chol']>nivel_maximo)).sum()\n",
    "print(\"El total de datos atípicos en 'chol' es {}\".format(Total_Atipicos))\n",
    "Total_Atipicos=((Datos['thalach']<nivel_minimo)|(Datos['thalach']>nivel_maximo)).sum()\n",
    "print(\"El total de datos atípicos en 'thalach' es {}\".format(Total_Atipicos))"
   ]
  },
  {
   "cell_type": "code",
   "execution_count": 56,
   "id": "0dc265a6-e4f5-4388-b60f-a9619eb0a9f8",
   "metadata": {},
   "outputs": [],
   "source": [
    "# Filtra Datos Atípicos\n",
    "\n",
    "Datos=Datos[(Datos['chol']<nivel_maximo)&(Datos['chol']>nivel_minimo)]\n",
    "Datos=Datos[(Datos['thalach']<nivel_maximo)&(Datos['thalach']>nivel_minimo)]"
   ]
  },
  {
   "cell_type": "code",
   "execution_count": 57,
   "id": "4faa4e34-f773-4f47-9797-e5b095420f40",
   "metadata": {},
   "outputs": [
    {
     "name": "stdout",
     "output_type": "stream",
     "text": [
      "El total de datos atípicos en 'chol' es 0\n",
      "El total de datos atípicos en 'thalach' es 0\n"
     ]
    }
   ],
   "source": [
    "# Validar si se removieron los datos atípicos\n",
    "\n",
    "Total_Atipicos=((Datos['chol']<nivel_minimo)|(Datos['chol']>nivel_maximo)).sum()\n",
    "print(\"El total de datos atípicos en 'chol' es {}\".format(Total_Atipicos))\n",
    "Total_Atipicos=((Datos['thalach']<nivel_minimo)|(Datos['thalach']>nivel_maximo)).sum()\n",
    "print(\"El total de datos atípicos en 'thalach' es {}\".format(Total_Atipicos))"
   ]
  },
  {
   "cell_type": "code",
   "execution_count": 58,
   "id": "cf83882c-2ae5-4ccf-ae70-e71eb53e1cd3",
   "metadata": {},
   "outputs": [
    {
     "name": "stdout",
     "output_type": "stream",
     "text": [
      "<class 'pandas.core.frame.DataFrame'>\n",
      "Index: 295 entries, 0 to 296\n",
      "Data columns (total 14 columns):\n",
      " #   Column     Non-Null Count  Dtype  \n",
      "---  ------     --------------  -----  \n",
      " 0   age        295 non-null    int64  \n",
      " 1   sex        295 non-null    int64  \n",
      " 2   cp         295 non-null    float64\n",
      " 3   trestbps   295 non-null    int64  \n",
      " 4   chol       295 non-null    int64  \n",
      " 5   fbs        295 non-null    int64  \n",
      " 6   restecg    295 non-null    int64  \n",
      " 7   thalach    295 non-null    int64  \n",
      " 8   exang      295 non-null    int64  \n",
      " 9   oldpeak    295 non-null    float64\n",
      " 10  slope      295 non-null    int64  \n",
      " 11  ca         295 non-null    int64  \n",
      " 12  thal       295 non-null    int64  \n",
      " 13  condition  295 non-null    int64  \n",
      "dtypes: float64(2), int64(12)\n",
      "memory usage: 34.6 KB\n"
     ]
    }
   ],
   "source": [
    "#Revisión del tipo de datos y datos faltantes\n",
    "\n",
    "Datos.info()"
   ]
  },
  {
   "cell_type": "markdown",
   "id": "b7e0be37-3f2b-483d-8b6b-b4daf59aca6b",
   "metadata": {},
   "source": [
    "## 3."
   ]
  },
  {
   "cell_type": "markdown",
   "id": "c1f818d9-edb9-4c49-927f-bf4907161fae",
   "metadata": {},
   "source": [
    "Característica de interes:\n",
    "* condicion cardiaca: si la persona tiene alguna condicion cardiaca o no (0 = no tiene  - 1 = si tiene )\n",
    "* Predecir si una persona puede tener diabetes"
   ]
  },
  {
   "cell_type": "code",
   "execution_count": 60,
   "id": "f6f83c17-9074-4329-8535-0ae895edb581",
   "metadata": {},
   "outputs": [
    {
     "data": {
      "text/plain": [
       "condition\n",
       "0    159\n",
       "1    136\n",
       "Name: count, dtype: int64"
      ]
     },
     "execution_count": 60,
     "metadata": {},
     "output_type": "execute_result"
    }
   ],
   "source": [
    "# Total de personas con condicion cardiaca especial\n",
    "\n",
    "Datos['condition'].value_counts()"
   ]
  },
  {
   "cell_type": "code",
   "execution_count": 62,
   "id": "db7c7bd1-bc62-4cae-b128-6e86435cc846",
   "metadata": {},
   "outputs": [
    {
     "data": {
      "text/html": [
       "<div>\n",
       "<style scoped>\n",
       "    .dataframe tbody tr th:only-of-type {\n",
       "        vertical-align: middle;\n",
       "    }\n",
       "\n",
       "    .dataframe tbody tr th {\n",
       "        vertical-align: top;\n",
       "    }\n",
       "\n",
       "    .dataframe thead th {\n",
       "        text-align: right;\n",
       "    }\n",
       "</style>\n",
       "<table border=\"1\" class=\"dataframe\">\n",
       "  <thead>\n",
       "    <tr style=\"text-align: right;\">\n",
       "      <th></th>\n",
       "      <th>condition</th>\n",
       "    </tr>\n",
       "  </thead>\n",
       "  <tbody>\n",
       "    <tr>\n",
       "      <th>0</th>\n",
       "      <td>0</td>\n",
       "    </tr>\n",
       "    <tr>\n",
       "      <th>1</th>\n",
       "      <td>0</td>\n",
       "    </tr>\n",
       "    <tr>\n",
       "      <th>2</th>\n",
       "      <td>0</td>\n",
       "    </tr>\n",
       "    <tr>\n",
       "      <th>3</th>\n",
       "      <td>1</td>\n",
       "    </tr>\n",
       "    <tr>\n",
       "      <th>4</th>\n",
       "      <td>0</td>\n",
       "    </tr>\n",
       "    <tr>\n",
       "      <th>5</th>\n",
       "      <td>0</td>\n",
       "    </tr>\n",
       "    <tr>\n",
       "      <th>6</th>\n",
       "      <td>0</td>\n",
       "    </tr>\n",
       "    <tr>\n",
       "      <th>7</th>\n",
       "      <td>1</td>\n",
       "    </tr>\n",
       "    <tr>\n",
       "      <th>8</th>\n",
       "      <td>0</td>\n",
       "    </tr>\n",
       "    <tr>\n",
       "      <th>9</th>\n",
       "      <td>0</td>\n",
       "    </tr>\n",
       "  </tbody>\n",
       "</table>\n",
       "</div>"
      ],
      "text/plain": [
       "   condition\n",
       "0          0\n",
       "1          0\n",
       "2          0\n",
       "3          1\n",
       "4          0\n",
       "5          0\n",
       "6          0\n",
       "7          1\n",
       "8          0\n",
       "9          0"
      ]
     },
     "execution_count": 62,
     "metadata": {},
     "output_type": "execute_result"
    }
   ],
   "source": [
    "Datos[['condition']].head(10)"
   ]
  },
  {
   "cell_type": "markdown",
   "id": "a8cb5b0e-a417-4da8-bf23-b6395266b241",
   "metadata": {},
   "source": [
    "## 4. "
   ]
  },
  {
   "cell_type": "code",
   "execution_count": 63,
   "id": "48550b6f-ad12-4108-aeeb-71a6063ab663",
   "metadata": {},
   "outputs": [],
   "source": [
    "# Porcentaje de datos para entrenamiento (train) = 75% , y para prueba (test) = 25%\n",
    "\n",
    "# Se crean variables X y Y para almacenar la información del entrenamiento\n",
    "\n",
    "X = Datos.drop('condition',axis=1) # Se cargan los datos de train sin los datos de la columna condición\n",
    "Y = Datos['condition'] # Se cargan los datos de train con los datos de la la columna condición\n",
    "\n",
    "#La función train_test_split crea una división de un conjunto de datos en dos bloques uno de entrenamiento y otro de prueba (train and test)\n",
    "X_train, X_test, Y_train, Y_test = train_test_split(X, Y, test_size=0.25, stratify=Y, random_state= 0)\n"
   ]
  },
  {
   "cell_type": "code",
   "execution_count": 64,
   "id": "d1eb3ebc-c276-4435-8c9f-036ab0dcc65f",
   "metadata": {},
   "outputs": [
    {
     "name": "stdout",
     "output_type": "stream",
     "text": [
      "     age  sex   cp  trestbps  chol  fbs  restecg  thalach  exang  oldpeak  \\\n",
      "232   57    0  3.0       128   303    0        2      159      0      0.0   \n",
      "53    48    1  1.0       130   245    0        2      180      0      0.2   \n",
      "102   58    1  2.0       140   211    1        2      165      0      0.0   \n",
      "189   62    0  3.0       138   294    1        0      106      0      1.9   \n",
      "169   66    1  3.0       160   228    0        2      138      0      2.3   \n",
      "..   ...  ...  ...       ...   ...  ...      ...      ...    ...      ...   \n",
      "73    71    0  2.0       110   265    1        2      130      0      0.0   \n",
      "168   66    1  3.0       112   212    0        2      132      1      0.1   \n",
      "154   37    0  2.0       120   215    0        0      170      0      0.0   \n",
      "153   37    1  2.0       130   250    0        0      187      0      3.5   \n",
      "260   51    1  3.0       140   298    0        0      122      1      4.2   \n",
      "\n",
      "     slope  ca  thal  \n",
      "232      0   1     0  \n",
      "53       1   0     0  \n",
      "102      0   0     0  \n",
      "189      1   3     0  \n",
      "169      0   0     1  \n",
      "..     ...  ..   ...  \n",
      "73       0   1     0  \n",
      "168      0   1     0  \n",
      "154      0   0     0  \n",
      "153      2   0     0  \n",
      "260      1   3     2  \n",
      "\n",
      "[221 rows x 13 columns]\n"
     ]
    }
   ],
   "source": [
    "print (X_train)"
   ]
  },
  {
   "cell_type": "code",
   "execution_count": 65,
   "id": "8b265ddd-1d14-4100-b000-ea322d7fc8d2",
   "metadata": {},
   "outputs": [
    {
     "name": "stdout",
     "output_type": "stream",
     "text": [
      "232    0\n",
      "53     0\n",
      "102    0\n",
      "189    1\n",
      "169    0\n",
      "      ..\n",
      "73     0\n",
      "168    1\n",
      "154    0\n",
      "153    0\n",
      "260    1\n",
      "Name: condition, Length: 221, dtype: int64\n"
     ]
    }
   ],
   "source": [
    "print (Y_train)"
   ]
  },
  {
   "cell_type": "markdown",
   "id": "b41d10f4-738c-415b-99bb-754a73b7a71d",
   "metadata": {},
   "source": [
    "## 5. "
   ]
  },
  {
   "cell_type": "code",
   "execution_count": 66,
   "id": "dcc6d4d1-d5fb-4c73-bb51-2be65a9fda60",
   "metadata": {},
   "outputs": [],
   "source": [
    "# Construir el modelo de regresión logística \n",
    "\n",
    "modelo_regresion = LogisticRegression(solver = \"liblinear\") # liblinear es una libreria para resolver problemas lineales de clasificación y regresión\n",
    "modelo_regresion.fit (X_train , Y_train)   \n",
    "\n",
    "# Crea el modelo de prediccion\n",
    "Prediccion = modelo_regresion.predict(X_test) # la función predict predice los valores a partir del conjunto de datos de validación\n"
   ]
  },
  {
   "cell_type": "code",
   "execution_count": 67,
   "id": "89bb56fd-bcaf-457f-856b-dcc03e1bae50",
   "metadata": {},
   "outputs": [
    {
     "name": "stdout",
     "output_type": "stream",
     "text": [
      "112    0\n",
      "252    1\n",
      "241    1\n",
      "163    1\n",
      "285    0\n",
      "      ..\n",
      "172    0\n",
      "136    1\n",
      "138    0\n",
      "221    1\n",
      "33     1\n",
      "Name: condition, Length: 74, dtype: int64\n"
     ]
    }
   ],
   "source": [
    "print (Y_test)"
   ]
  },
  {
   "cell_type": "code",
   "execution_count": 68,
   "id": "34472f9a-e324-4d44-9824-e4d68431a079",
   "metadata": {},
   "outputs": [
    {
     "name": "stdout",
     "output_type": "stream",
     "text": [
      "[0 1 1 1 0 1 0 1 1 0 0 1 0 1 1 0 0 1 0 0 0 0 1 1 0 1 1 1 0 1 1 1 0 0 0 0 0\n",
      " 0 0 0 1 0 1 1 1 1 1 0 1 0 0 0 0 0 1 1 0 1 0 1 1 0 0 0 1 0 0 1 0 0 0 0 1 0]\n"
     ]
    }
   ],
   "source": [
    "print (Prediccion)"
   ]
  },
  {
   "cell_type": "markdown",
   "id": "25c1ba72-cb7c-4b70-ad9f-93aaaf1294e4",
   "metadata": {},
   "source": [
    "## 6. "
   ]
  },
  {
   "cell_type": "code",
   "execution_count": 69,
   "id": "f87071fe-fca8-438f-ad01-ce60bf3bd987",
   "metadata": {},
   "outputs": [
    {
     "name": "stdout",
     "output_type": "stream",
     "text": [
      "              precision    recall  f1-score   support\n",
      "\n",
      "           0       0.88      0.90      0.89        40\n",
      "           1       0.88      0.85      0.87        34\n",
      "\n",
      "    accuracy                           0.88        74\n",
      "   macro avg       0.88      0.88      0.88        74\n",
      "weighted avg       0.88      0.88      0.88        74\n",
      "\n"
     ]
    }
   ],
   "source": [
    "# Desempeño del modelo de regresión\n",
    "\n",
    "print(classification_report(Y_test,Prediccion))"
   ]
  },
  {
   "cell_type": "markdown",
   "id": "783564a6-322a-4673-a8a0-5a1e71ba7f6c",
   "metadata": {},
   "source": [
    "## 7. "
   ]
  },
  {
   "cell_type": "code",
   "execution_count": 70,
   "id": "6c094bef-6b89-4411-9fc0-a534ab35d4fd",
   "metadata": {},
   "outputs": [
    {
     "data": {
      "text/plain": [
       "<sklearn.metrics._plot.confusion_matrix.ConfusionMatrixDisplay at 0x233e726b090>"
      ]
     },
     "execution_count": 70,
     "metadata": {},
     "output_type": "execute_result"
    },
    {
     "data": {
      "image/png": "[encoded data removed]",
      "text/plain": [
       "<Figure size 640x480 with 2 Axes>"
      ]
     },
     "metadata": {},
     "output_type": "display_data"
    }
   ],
   "source": [
    "#Matrix de Confusión del modelo\n",
    "\n",
    "cm=confusion_matrix(Y_test,Prediccion)\n",
    "disp=metrics.ConfusionMatrixDisplay(confusion_matrix=cm)\n",
    "disp.plot()"
   ]
  },
  {
   "cell_type": "code",
   "execution_count": 71,
   "id": "31d538a7-a662-4936-8331-c943f92c3ad5",
   "metadata": {},
   "outputs": [
    {
     "data": {
      "image/png": "[encoded data removed]",
      "text/plain": [
       "<Figure size 640x480 with 1 Axes>"
      ]
     },
     "metadata": {},
     "output_type": "display_data"
    }
   ],
   "source": [
    "# Curva de precisón del modelo\n",
    "\n",
    "from sklearn.metrics import RocCurveDisplay\n",
    "RocCurveDisplay.from_predictions(Y_test, Prediccion)\n",
    "plt.show()"
   ]
  },
  {
   "cell_type": "markdown",
   "id": "f9482850-08f5-46d5-9fe0-6375d9167201",
   "metadata": {},
   "source": [
    "## 8. Interpretar, analizar y documentar los resultados obtenidos"
   ]
  },
  {
   "cell_type": "markdown",
   "id": "94ea73b6-5050-48c5-b2e1-5eef72f10e62",
   "metadata": {},
   "source": [
    "Del desempeño del modelo se puede describir:\n",
    "\n",
    "Precisión: Indica la proporción de identificaciones positivas que fueron realmente correctas. Para la clase 0, la precisión es del 0.88, lo que significa que el 88% de las veces que el modelo predijo la clase 0, fue correcto. Para la clase 1, también es del 0.88.\n",
    "\r\n",
    "Recall (Sensibilidad): Muestra la proporción de positivos reales que fueron identificados correctamente. Para la clase 0, es del 0.90, indicando que el modelo capturó el 90% de todos los casos reales de la clase 0. Para la clase 1, es del 0.85, capturando el 85% de los casos de la clase 1\n",
    ".\r\n",
    "F1-Score: Es la media armónica de la precisión y el recall, y da una idea del balance entre estas dos métricas. Un F1-Score de 0.89 para la clase 0 y 0.87 para la clase 1 sugiere un buen equilibrio entre la precisión y el recall para ambas clase\n",
    "s.\r\n",
    "Support: Es el número de ocurrencias reales de la clase en el conjunto de datos. Hay 40 instancias de la clase 0 y 34 de la clase\n",
    " 1.\r\n",
    "Accuracy (Exactitud): Es la proporción de predicciones correctas entre todas las predicciones hechas. Aquí, la exactitud es del 0.88, lo que significa que el 88% de todas las predicciones del modelo fueron correc\n",
    "tas.\r\n",
    "Macro Avg: Es el promedio de la precisión, el recall y el F1-Score sin tener en cuenta el desbalance entre clases. Aquí, todos tienen un valor de \n",
    "0.88.\r\n",
    "Weighted Avg: Es similar al macro promedio, pero tiene en cuenta el desbalance entre clases ponderando las métricas de acuerdo al número de instancias en cada clase. También resulta en 0.88 para la precisión, el recall y el F1-Score.\n",
    "\n",
    "\n",
    "De la Matriz de Confusión podemos interpreVerdaderos Negativos (Superior Izquierdo): El modelo predijo correctamente 36 casos como clase 0.\n",
    "\r\n",
    "Falsos Positivos (Superior Derecho): El modelo predijo incorrectamente 4 casos como clase 1 cuando en realidad eran clase 0\n",
    ".\r\n",
    "Falsos Negativos (Inferior Izquierdo): El modelo predijo incorrectamente 5 casos como clase 0 cuando en realidad eran clase \n",
    "1.\r\n",
    "Verdaderos Positivos (Inferior Derecho): El modelo predijo correctamente 29 casos como clase\n",
    "tiCurva ROC: La línea azul representa el rendimiento del clasificador. Cuanto más cerca esté la curva de la esquina superior izquierda, mejor es el rendimiento del modelo.\n",
    "\r\n",
    "Eje X - Tasa de Falsos Positivos: Representa la proporción de negativos reales que fueron incorrectamente clasificados como positivos. Varía de 0.0 a 1.0\n",
    ".\r\n",
    "Eje Y - Tasa de Verdaderos Positivos: Indica la proporción de positivos reales que fueron correctamente clasificados. También varía de 0.0 a 1.\n",
    "0.\r\n",
    "AUC (Área Bajo la Curva): El valor de AUC es 0.88, lo que indica que el clasificador tiene un buen nivel de distinción entre las dos clases. Un AUC de 1 representa un clasificador perfecto, mientras que un AUC de 0.5 representa un rendimiento no mejor que el azar.asificación.\n",
    "\n"
   ]
  }
 ],
 "metadata": {
  "kernelspec": {
   "display_name": "Python 3 (ipykernel)",
   "language": "python",
   "name": "python3"
  },
  "language_info": {
   "codemirror_mode": {
    "name": "ipython",
    "version": 3
   },
   "file_extension": ".py",
   "mimetype": "text/x-python",
   "name": "python",
   "nbconvert_exporter": "python",
   "pygments_lexer": "ipython3",
   "version": "3.11.7"
  }
 },
 "nbformat": 4,
 "nbformat_minor": 5
}
